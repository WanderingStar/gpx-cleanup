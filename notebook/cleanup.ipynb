{
 "cells": [
  {
   "cell_type": "code",
   "execution_count": 1,
   "metadata": {},
   "outputs": [],
   "source": [
    "import geodb.model\n",
    "from geodb.model import GPSPoint, db_url, GPSTrack, clone_model"
   ]
  },
  {
   "cell_type": "code",
   "execution_count": 2,
   "metadata": {},
   "outputs": [],
   "source": [
    "import sqlalchemy\n",
    "from sqlalchemy.orm import sessionmaker"
   ]
  },
  {
   "cell_type": "code",
   "execution_count": 3,
   "metadata": {},
   "outputs": [],
   "source": [
    "engine = sqlalchemy.create_engine(db_url(), echo=False)\n",
    "Session = sessionmaker(bind=engine)\n",
    "session = Session()"
   ]
  },
  {
   "cell_type": "code",
   "execution_count": 4,
   "metadata": {},
   "outputs": [],
   "source": [
    "import pandas as pd\n",
    "import numpy as np"
   ]
  },
  {
   "cell_type": "markdown",
   "metadata": {},
   "source": [
    "# Cleanup orphan points"
   ]
  },
  {
   "cell_type": "code",
   "execution_count": 13,
   "metadata": {},
   "outputs": [
    {
     "data": {
      "text/plain": [
       "0"
      ]
     },
     "execution_count": 13,
     "metadata": {},
     "output_type": "execute_result"
    }
   ],
   "source": [
    "session.query(GPSPoint).filter(GPSPoint.track_id==None).count()"
   ]
  },
  {
   "cell_type": "code",
   "execution_count": 12,
   "metadata": {},
   "outputs": [
    {
     "data": {
      "text/plain": [
       "20947"
      ]
     },
     "execution_count": 12,
     "metadata": {},
     "output_type": "execute_result"
    }
   ],
   "source": [
    "session.query(GPSPoint).filter(GPSPoint.track_id==None).delete()"
   ]
  },
  {
   "cell_type": "code",
   "execution_count": 15,
   "metadata": {},
   "outputs": [],
   "source": [
    "session.commit()"
   ]
  },
  {
   "cell_type": "markdown",
   "metadata": {},
   "source": [
    "# Cleanup empty tracks"
   ]
  },
  {
   "cell_type": "code",
   "execution_count": 42,
   "metadata": {},
   "outputs": [
    {
     "name": "stdout",
     "output_type": "stream",
     "text": [
      "15591\n",
      "15593\n",
      "15600\n",
      "15601\n",
      "15604\n",
      "15607\n",
      "15614\n",
      "15615\n",
      "15618\n",
      "15623\n",
      "15626\n",
      "15632\n",
      "15633\n",
      "15637\n",
      "15647\n",
      "15652\n",
      "15656\n",
      "15658\n",
      "15662\n",
      "15666\n",
      "15668\n",
      "15670\n",
      "15675\n",
      "15677\n",
      "15680\n",
      "15683\n",
      "15684\n",
      "15688\n",
      "15692\n",
      "15702\n",
      "15705\n",
      "15707\n",
      "15708\n",
      "15710\n",
      "15711\n",
      "15715\n",
      "15718\n",
      "15719\n",
      "15720\n",
      "15722\n",
      "15725\n",
      "15727\n",
      "15729\n",
      "15731\n",
      "15735\n",
      "15739\n",
      "15741\n",
      "15745\n",
      "15747\n",
      "15748\n",
      "15750\n",
      "15751\n",
      "15754\n",
      "15755\n",
      "15756\n",
      "15758\n",
      "15759\n",
      "15763\n",
      "15765\n",
      "15767\n",
      "15770\n",
      "15772\n",
      "15773\n",
      "15775\n",
      "15777\n",
      "15781\n",
      "15789\n",
      "15797\n",
      "2506\n",
      "2507\n",
      "2510\n",
      "12364\n",
      "12365\n",
      "12368\n",
      "12369\n",
      "12371\n",
      "12372\n",
      "12375\n",
      "12376\n",
      "12572\n",
      "12792\n"
     ]
    }
   ],
   "source": [
    "for track in session.query(GPSTrack):\n",
    "    if len(track.points) == 0:\n",
    "        print(f\"{track.id}\")\n",
    "        session.delete(track)"
   ]
  },
  {
   "cell_type": "code",
   "execution_count": 43,
   "metadata": {},
   "outputs": [],
   "source": [
    "session.commit()"
   ]
  },
  {
   "cell_type": "markdown",
   "metadata": {},
   "source": [
    "# Cleanup identical tracks"
   ]
  },
  {
   "cell_type": "code",
   "execution_count": 5,
   "metadata": {},
   "outputs": [],
   "source": [
    "def points_are_same(p1, p2):\n",
    "    return (p1.time == p2.time and\n",
    "            p1.latitude == p2.latitude and\n",
    "            p1.longitude == p2.longitude and\n",
    "            p1.elevation == p2.elevation)"
   ]
  },
  {
   "cell_type": "code",
   "execution_count": 6,
   "metadata": {},
   "outputs": [],
   "source": [
    "# why do we have multiple points in the same second?\n",
    "def ultrasort(points):\n",
    "    return sorted(points, key=lambda p: (p.time, p.latitude, p.longitude, p.elevation))"
   ]
  },
  {
   "cell_type": "code",
   "execution_count": 18,
   "metadata": {},
   "outputs": [
    {
     "data": {
      "text/html": [
       "<div>\n",
       "<style scoped>\n",
       "    .dataframe tbody tr th:only-of-type {\n",
       "        vertical-align: middle;\n",
       "    }\n",
       "\n",
       "    .dataframe tbody tr th {\n",
       "        vertical-align: top;\n",
       "    }\n",
       "\n",
       "    .dataframe thead th {\n",
       "        text-align: right;\n",
       "    }\n",
       "</style>\n",
       "<table border=\"1\" class=\"dataframe\">\n",
       "  <thead>\n",
       "    <tr style=\"text-align: right;\">\n",
       "      <th></th>\n",
       "      <th>length</th>\n",
       "      <th>track_ids</th>\n",
       "      <th>starts</th>\n",
       "      <th>stops</th>\n",
       "    </tr>\n",
       "  </thead>\n",
       "  <tbody>\n",
       "    <tr>\n",
       "      <th>0</th>\n",
       "      <td>1</td>\n",
       "      <td>[2850, 4790, 3936, 5963, 9399, 4543, 3189, 400...</td>\n",
       "      <td>[2019-11-27 10:28:48+00:00, 2017-08-06 20:12:0...</td>\n",
       "      <td>[2019-11-27 10:28:48+00:00, 2017-08-06 20:12:0...</td>\n",
       "    </tr>\n",
       "    <tr>\n",
       "      <th>1</th>\n",
       "      <td>2</td>\n",
       "      <td>[12955]</td>\n",
       "      <td>[2019-12-09 01:36:10+00:00]</td>\n",
       "      <td>[2019-12-09 01:37:09+00:00]</td>\n",
       "    </tr>\n",
       "    <tr>\n",
       "      <th>2</th>\n",
       "      <td>3</td>\n",
       "      <td>[12556]</td>\n",
       "      <td>[2019-11-25 07:28:34+00:00]</td>\n",
       "      <td>[2019-11-25 07:29:19+00:00]</td>\n",
       "    </tr>\n",
       "    <tr>\n",
       "      <th>3</th>\n",
       "      <td>4</td>\n",
       "      <td>[12715, 2486, 12696, 12966]</td>\n",
       "      <td>[2019-11-30 07:17:26+00:00, 2019-11-24 10:05:4...</td>\n",
       "      <td>[2019-11-30 07:17:50+00:00, 2019-11-24 10:35:4...</td>\n",
       "    </tr>\n",
       "    <tr>\n",
       "      <th>4</th>\n",
       "      <td>6</td>\n",
       "      <td>[12550]</td>\n",
       "      <td>[2019-11-25 04:04:22+00:00]</td>\n",
       "      <td>[2019-11-25 04:05:29+00:00]</td>\n",
       "    </tr>\n",
       "    <tr>\n",
       "      <th>...</th>\n",
       "      <td>...</td>\n",
       "      <td>...</td>\n",
       "      <td>...</td>\n",
       "      <td>...</td>\n",
       "    </tr>\n",
       "    <tr>\n",
       "      <th>251</th>\n",
       "      <td>2146</td>\n",
       "      <td>[2492]</td>\n",
       "      <td>[2019-11-29 22:55:15+00:00]</td>\n",
       "      <td>[2019-11-30 08:34:43+00:00]</td>\n",
       "    </tr>\n",
       "    <tr>\n",
       "      <th>252</th>\n",
       "      <td>2419</td>\n",
       "      <td>[12530]</td>\n",
       "      <td>[2019-11-23 18:08:00+00:00]</td>\n",
       "      <td>[2019-11-24 07:58:46+00:00]</td>\n",
       "    </tr>\n",
       "    <tr>\n",
       "      <th>253</th>\n",
       "      <td>2601</td>\n",
       "      <td>[2499]</td>\n",
       "      <td>[2019-12-05 23:34:00+00:00]</td>\n",
       "      <td>[2019-12-06 12:44:36+00:00]</td>\n",
       "    </tr>\n",
       "    <tr>\n",
       "      <th>254</th>\n",
       "      <td>3449</td>\n",
       "      <td>[12542]</td>\n",
       "      <td>[2019-11-24 12:50:22+00:00]</td>\n",
       "      <td>[2019-11-24 23:34:30+00:00]</td>\n",
       "    </tr>\n",
       "    <tr>\n",
       "      <th>255</th>\n",
       "      <td>4495</td>\n",
       "      <td>[12647]</td>\n",
       "      <td>[2019-11-28 08:11:55+00:00]</td>\n",
       "      <td>[2019-11-28 23:07:32+00:00]</td>\n",
       "    </tr>\n",
       "  </tbody>\n",
       "</table>\n",
       "<p>256 rows × 4 columns</p>\n",
       "</div>"
      ],
      "text/plain": [
       "     length                                          track_ids  \\\n",
       "0         1  [2850, 4790, 3936, 5963, 9399, 4543, 3189, 400...   \n",
       "1         2                                            [12955]   \n",
       "2         3                                            [12556]   \n",
       "3         4                        [12715, 2486, 12696, 12966]   \n",
       "4         6                                            [12550]   \n",
       "..      ...                                                ...   \n",
       "251    2146                                             [2492]   \n",
       "252    2419                                            [12530]   \n",
       "253    2601                                             [2499]   \n",
       "254    3449                                            [12542]   \n",
       "255    4495                                            [12647]   \n",
       "\n",
       "                                                starts  \\\n",
       "0    [2019-11-27 10:28:48+00:00, 2017-08-06 20:12:0...   \n",
       "1                          [2019-12-09 01:36:10+00:00]   \n",
       "2                          [2019-11-25 07:28:34+00:00]   \n",
       "3    [2019-11-30 07:17:26+00:00, 2019-11-24 10:05:4...   \n",
       "4                          [2019-11-25 04:04:22+00:00]   \n",
       "..                                                 ...   \n",
       "251                        [2019-11-29 22:55:15+00:00]   \n",
       "252                        [2019-11-23 18:08:00+00:00]   \n",
       "253                        [2019-12-05 23:34:00+00:00]   \n",
       "254                        [2019-11-24 12:50:22+00:00]   \n",
       "255                        [2019-11-28 08:11:55+00:00]   \n",
       "\n",
       "                                                 stops  \n",
       "0    [2019-11-27 10:28:48+00:00, 2017-08-06 20:12:0...  \n",
       "1                          [2019-12-09 01:37:09+00:00]  \n",
       "2                          [2019-11-25 07:29:19+00:00]  \n",
       "3    [2019-11-30 07:17:50+00:00, 2019-11-24 10:35:4...  \n",
       "4                          [2019-11-25 04:05:29+00:00]  \n",
       "..                                                 ...  \n",
       "251                        [2019-11-30 08:34:43+00:00]  \n",
       "252                        [2019-11-24 07:58:46+00:00]  \n",
       "253                        [2019-12-06 12:44:36+00:00]  \n",
       "254                        [2019-11-24 23:34:30+00:00]  \n",
       "255                        [2019-11-28 23:07:32+00:00]  \n",
       "\n",
       "[256 rows x 4 columns]"
      ]
     },
     "execution_count": 18,
     "metadata": {},
     "output_type": "execute_result"
    }
   ],
   "source": [
    "from collections import defaultdict\n",
    "length_query = \"\"\"\n",
    "select length, array_agg(track_id) as track_ids,\n",
    "array_agg(start) as starts,\n",
    "array_agg(stop) as stops\n",
    "from (\n",
    "select track_id, count(*) as length, min(time) as start, max(time) as stop \n",
    "from point\n",
    "group by track_id) x\n",
    "group by length\n",
    "order by length\n",
    "\"\"\"\n",
    "length_df = pd.read_sql_query(length_query, engine)\n",
    "length_df"
   ]
  },
  {
   "cell_type": "code",
   "execution_count": 19,
   "metadata": {},
   "outputs": [],
   "source": [
    "dupes = []\n",
    "for row in length_df.itertuples():\n",
    "    track_ids = row.track_ids\n",
    "    starts = row.starts\n",
    "    stops = row.stops\n",
    "    by_times = defaultdict(list)\n",
    "    for (start, stop, track_id) in zip(starts, stops, track_ids):\n",
    "        by_times[(start, stop)].append(track_id)\n",
    "    # print(f\"{len(track_ids)} tracks with {len(by_times)} unique time bounds\")\n",
    "    for bounds, tracks_ids in by_times.items():\n",
    "        if len(tracks_ids) > 1:\n",
    "            tracks_ids.sort()\n",
    "            uniques = [session.query(GPSTrack).get(tracks_ids[0])]\n",
    "            for track_id in tracks_ids[1:]:\n",
    "                t = session.query(GPSTrack).get(track_id)\n",
    "                for u in uniques:\n",
    "                    \n",
    "                    for p1, p2 in zip(ultrasort(u.points), ultrasort(t.points)):\n",
    "                        if not points_are_same(p1, p2):\n",
    "                            break # not the same as this unique\n",
    "                    else:\n",
    "                        # all points matched, so this is a duplicate\n",
    "                        print(f\"{row.length}: {track_id} is a duplicate of {u.id}\")\n",
    "                        print(f\"{u.id}\\t{u.name}\\t{u.filename}\\t{u.source}\\t{u.parent}\")\n",
    "                        print(f\"{t.id}\\t{t.name}\\t{t.filename}\\t{t.source}\\t{t.parent}\")\n",
    "                        print()\n",
    "                        dupes.append(t)\n",
    "                        break\n",
    "                else:\n",
    "                    # no u matched\n",
    "                    uniques.append(t)\n"
   ]
  },
  {
   "cell_type": "code",
   "execution_count": 20,
   "metadata": {},
   "outputs": [
    {
     "data": {
      "text/plain": [
       "[]"
      ]
     },
     "execution_count": 20,
     "metadata": {},
     "output_type": "execute_result"
    }
   ],
   "source": [
    "[t.id for t in dupes]"
   ]
  },
  {
   "cell_type": "code",
   "execution_count": 21,
   "metadata": {},
   "outputs": [],
   "source": [
    "for t in dupes:\n",
    "    session.delete(t)"
   ]
  },
  {
   "cell_type": "code",
   "execution_count": 22,
   "metadata": {},
   "outputs": [
    {
     "data": {
      "text/plain": [
       "<sqlalchemy.engine.result.ResultProxy at 0x7fe813b983d0>"
      ]
     },
     "execution_count": 22,
     "metadata": {},
     "output_type": "execute_result"
    }
   ],
   "source": [
    "session.execute(\"delete from track where id = 1417\")"
   ]
  },
  {
   "cell_type": "code",
   "execution_count": 23,
   "metadata": {},
   "outputs": [],
   "source": [
    "session.commit()"
   ]
  },
  {
   "cell_type": "code",
   "execution_count": 24,
   "metadata": {},
   "outputs": [
    {
     "data": {
      "text/html": [
       "<div>\n",
       "<style scoped>\n",
       "    .dataframe tbody tr th:only-of-type {\n",
       "        vertical-align: middle;\n",
       "    }\n",
       "\n",
       "    .dataframe tbody tr th {\n",
       "        vertical-align: top;\n",
       "    }\n",
       "\n",
       "    .dataframe thead th {\n",
       "        text-align: right;\n",
       "    }\n",
       "</style>\n",
       "<table border=\"1\" class=\"dataframe\">\n",
       "  <thead>\n",
       "    <tr style=\"text-align: right;\">\n",
       "      <th></th>\n",
       "      <th>id</th>\n",
       "      <th>name</th>\n",
       "      <th>comment</th>\n",
       "      <th>description</th>\n",
       "      <th>source</th>\n",
       "      <th>type</th>\n",
       "      <th>filename</th>\n",
       "      <th>properties</th>\n",
       "      <th>raw</th>\n",
       "      <th>parent_id</th>\n",
       "    </tr>\n",
       "  </thead>\n",
       "  <tbody>\n",
       "  </tbody>\n",
       "</table>\n",
       "</div>"
      ],
      "text/plain": [
       "Empty DataFrame\n",
       "Columns: [id, name, comment, description, source, type, filename, properties, raw, parent_id]\n",
       "Index: []"
      ]
     },
     "execution_count": 24,
     "metadata": {},
     "output_type": "execute_result"
    }
   ],
   "source": [
    "query = \"\"\"\n",
    "select * from track where id in (15100, 15099)\n",
    "\"\"\"\n",
    "pd.read_sql_query(query, engine)"
   ]
  },
  {
   "cell_type": "code",
   "execution_count": 25,
   "metadata": {},
   "outputs": [
    {
     "data": {
      "text/html": [
       "<div>\n",
       "<style scoped>\n",
       "    .dataframe tbody tr th:only-of-type {\n",
       "        vertical-align: middle;\n",
       "    }\n",
       "\n",
       "    .dataframe tbody tr th {\n",
       "        vertical-align: top;\n",
       "    }\n",
       "\n",
       "    .dataframe thead th {\n",
       "        text-align: right;\n",
       "    }\n",
       "</style>\n",
       "<table border=\"1\" class=\"dataframe\">\n",
       "  <thead>\n",
       "    <tr style=\"text-align: right;\">\n",
       "      <th></th>\n",
       "      <th>id</th>\n",
       "      <th>name</th>\n",
       "      <th>comment</th>\n",
       "      <th>description</th>\n",
       "      <th>source</th>\n",
       "      <th>type</th>\n",
       "      <th>filename</th>\n",
       "      <th>properties</th>\n",
       "      <th>raw</th>\n",
       "      <th>parent_id</th>\n",
       "    </tr>\n",
       "  </thead>\n",
       "  <tbody>\n",
       "    <tr>\n",
       "      <th>0</th>\n",
       "      <td>2492</td>\n",
       "      <td>Aneel Nazareth (9931878)</td>\n",
       "      <td>None</td>\n",
       "      <td>Aneel Nazareth (9931878)</td>\n",
       "      <td>None</td>\n",
       "      <td>None</td>\n",
       "      <td>inreach.gpx</td>\n",
       "      <td>{}</td>\n",
       "      <td>None</td>\n",
       "      <td>None</td>\n",
       "    </tr>\n",
       "  </tbody>\n",
       "</table>\n",
       "</div>"
      ],
      "text/plain": [
       "     id                      name comment               description source  \\\n",
       "0  2492  Aneel Nazareth (9931878)    None  Aneel Nazareth (9931878)   None   \n",
       "\n",
       "   type     filename properties   raw parent_id  \n",
       "0  None  inreach.gpx         {}  None      None  "
      ]
     },
     "execution_count": 25,
     "metadata": {},
     "output_type": "execute_result"
    }
   ],
   "source": [
    "query = \"\"\"\n",
    "select * from track where id in (2492, 12385)\n",
    "\"\"\"\n",
    "pd.read_sql_query(query, engine)"
   ]
  },
  {
   "cell_type": "code",
   "execution_count": 27,
   "metadata": {},
   "outputs": [],
   "source": [
    "a = session.query(GPSTrack).get(2492)\n",
    "b = session.query(GPSTrack).get(12385)"
   ]
  },
  {
   "cell_type": "code",
   "execution_count": 28,
   "metadata": {},
   "outputs": [
    {
     "data": {
      "text/plain": [
       "(2146, '2019-11-29 22:55:15+00:00', '2019-11-30 08:34:43+00:00')"
      ]
     },
     "execution_count": 28,
     "metadata": {},
     "output_type": "execute_result"
    }
   ],
   "source": [
    "len(a.points), str(a.start.time), str(a.end.time)"
   ]
  },
  {
   "cell_type": "code",
   "execution_count": 29,
   "metadata": {},
   "outputs": [
    {
     "ename": "AttributeError",
     "evalue": "'NoneType' object has no attribute 'points'",
     "output_type": "error",
     "traceback": [
      "\u001b[0;31m---------------------------------------------------------------------------\u001b[0m",
      "\u001b[0;31mAttributeError\u001b[0m                            Traceback (most recent call last)",
      "\u001b[0;32m<ipython-input-29-f2670c96399a>\u001b[0m in \u001b[0;36m<module>\u001b[0;34m\u001b[0m\n\u001b[0;32m----> 1\u001b[0;31m \u001b[0mlen\u001b[0m\u001b[0;34m(\u001b[0m\u001b[0mb\u001b[0m\u001b[0;34m.\u001b[0m\u001b[0mpoints\u001b[0m\u001b[0;34m)\u001b[0m\u001b[0;34m,\u001b[0m \u001b[0mstr\u001b[0m\u001b[0;34m(\u001b[0m\u001b[0mb\u001b[0m\u001b[0;34m.\u001b[0m\u001b[0mstart\u001b[0m\u001b[0;34m.\u001b[0m\u001b[0mtime\u001b[0m\u001b[0;34m)\u001b[0m\u001b[0;34m,\u001b[0m \u001b[0mstr\u001b[0m\u001b[0;34m(\u001b[0m\u001b[0mb\u001b[0m\u001b[0;34m.\u001b[0m\u001b[0mend\u001b[0m\u001b[0;34m.\u001b[0m\u001b[0mtime\u001b[0m\u001b[0;34m)\u001b[0m\u001b[0;34m\u001b[0m\u001b[0;34m\u001b[0m\u001b[0m\n\u001b[0m",
      "\u001b[0;31mAttributeError\u001b[0m: 'NoneType' object has no attribute 'points'"
     ]
    }
   ],
   "source": [
    "len(b.points), str(b.start.time), str(b.end.time)"
   ]
  },
  {
   "cell_type": "code",
   "execution_count": 30,
   "metadata": {},
   "outputs": [
    {
     "ename": "AttributeError",
     "evalue": "'NoneType' object has no attribute 'points'",
     "output_type": "error",
     "traceback": [
      "\u001b[0;31m---------------------------------------------------------------------------\u001b[0m",
      "\u001b[0;31mAttributeError\u001b[0m                            Traceback (most recent call last)",
      "\u001b[0;32m<ipython-input-30-34664b6c5adc>\u001b[0m in \u001b[0;36m<module>\u001b[0;34m\u001b[0m\n\u001b[0;32m----> 1\u001b[0;31m \u001b[0;32mfor\u001b[0m \u001b[0mp1\u001b[0m\u001b[0;34m,\u001b[0m \u001b[0mp2\u001b[0m \u001b[0;32min\u001b[0m \u001b[0mzip\u001b[0m\u001b[0;34m(\u001b[0m\u001b[0ma\u001b[0m\u001b[0;34m.\u001b[0m\u001b[0mpoints\u001b[0m\u001b[0;34m,\u001b[0m \u001b[0mb\u001b[0m\u001b[0;34m.\u001b[0m\u001b[0mpoints\u001b[0m\u001b[0;34m)\u001b[0m\u001b[0;34m:\u001b[0m\u001b[0;34m\u001b[0m\u001b[0;34m\u001b[0m\u001b[0m\n\u001b[0m\u001b[1;32m      2\u001b[0m     \u001b[0;32mif\u001b[0m \u001b[0;32mnot\u001b[0m \u001b[0mpoints_are_same\u001b[0m\u001b[0;34m(\u001b[0m\u001b[0mp1\u001b[0m\u001b[0;34m,\u001b[0m \u001b[0mp2\u001b[0m\u001b[0;34m)\u001b[0m\u001b[0;34m:\u001b[0m\u001b[0;34m\u001b[0m\u001b[0;34m\u001b[0m\u001b[0m\n\u001b[1;32m      3\u001b[0m         print(p1.time, p2.time,\n\u001b[1;32m      4\u001b[0m             \u001b[0mp1\u001b[0m\u001b[0;34m.\u001b[0m\u001b[0mlatitude\u001b[0m\u001b[0;34m,\u001b[0m \u001b[0mp2\u001b[0m\u001b[0;34m.\u001b[0m\u001b[0mlatitude\u001b[0m\u001b[0;34m,\u001b[0m\u001b[0;34m\u001b[0m\u001b[0;34m\u001b[0m\u001b[0m\n\u001b[1;32m      5\u001b[0m             \u001b[0mp1\u001b[0m\u001b[0;34m.\u001b[0m\u001b[0mlongitude\u001b[0m\u001b[0;34m,\u001b[0m \u001b[0mp2\u001b[0m\u001b[0;34m.\u001b[0m\u001b[0mlongitude\u001b[0m\u001b[0;34m,\u001b[0m\u001b[0;34m\u001b[0m\u001b[0;34m\u001b[0m\u001b[0m\n",
      "\u001b[0;31mAttributeError\u001b[0m: 'NoneType' object has no attribute 'points'"
     ]
    }
   ],
   "source": [
    "for p1, p2 in zip(a.points, b.points):\n",
    "    if not points_are_same(p1, p2):\n",
    "        print(p1.time, p2.time,\n",
    "            p1.latitude, p2.latitude,\n",
    "            p1.longitude, p2.longitude,\n",
    "            p1.elevation, p2.elevation)"
   ]
  },
  {
   "cell_type": "code",
   "execution_count": null,
   "metadata": {},
   "outputs": [],
   "source": []
  }
 ],
 "metadata": {
  "kernelspec": {
   "display_name": "Python 3",
   "language": "python",
   "name": "python3"
  },
  "language_info": {
   "codemirror_mode": {
    "name": "ipython",
    "version": 3
   },
   "file_extension": ".py",
   "mimetype": "text/x-python",
   "name": "python",
   "nbconvert_exporter": "python",
   "pygments_lexer": "ipython3",
   "version": "3.7.4"
  }
 },
 "nbformat": 4,
 "nbformat_minor": 4
}
