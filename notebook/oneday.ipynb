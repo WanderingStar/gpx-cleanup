{
 "cells": [
  {
   "cell_type": "code",
   "execution_count": 1,
   "metadata": {},
   "outputs": [],
   "source": [
    "import geodb.model\n",
    "from geodb.model import GPSPoint, db_url, GPSTrack, clone_model"
   ]
  },
  {
   "cell_type": "code",
   "execution_count": 2,
   "metadata": {},
   "outputs": [],
   "source": [
    "import sqlalchemy\n",
    "from sqlalchemy.orm import sessionmaker"
   ]
  },
  {
   "cell_type": "code",
   "execution_count": 3,
   "metadata": {},
   "outputs": [],
   "source": [
    "engine = sqlalchemy.create_engine(db_url(), echo=False)\n",
    "Session = sessionmaker(bind=engine)\n",
    "session = Session()"
   ]
  },
  {
   "cell_type": "code",
   "execution_count": 4,
   "metadata": {},
   "outputs": [],
   "source": [
    "import pandas as pd\n",
    "import numpy as np"
   ]
  },
  {
   "cell_type": "code",
   "execution_count": 5,
   "metadata": {},
   "outputs": [
    {
     "data": {
      "text/html": [
       "<div>\n",
       "<style scoped>\n",
       "    .dataframe tbody tr th:only-of-type {\n",
       "        vertical-align: middle;\n",
       "    }\n",
       "\n",
       "    .dataframe tbody tr th {\n",
       "        vertical-align: top;\n",
       "    }\n",
       "\n",
       "    .dataframe thead th {\n",
       "        text-align: right;\n",
       "    }\n",
       "</style>\n",
       "<table border=\"1\" class=\"dataframe\">\n",
       "  <thead>\n",
       "    <tr style=\"text-align: right;\">\n",
       "      <th></th>\n",
       "      <th>date</th>\n",
       "      <th>count</th>\n",
       "    </tr>\n",
       "  </thead>\n",
       "  <tbody>\n",
       "    <tr>\n",
       "      <th>0</th>\n",
       "      <td>2019-11-01</td>\n",
       "      <td>1</td>\n",
       "    </tr>\n",
       "    <tr>\n",
       "      <th>1</th>\n",
       "      <td>2019-11-02</td>\n",
       "      <td>2</td>\n",
       "    </tr>\n",
       "    <tr>\n",
       "      <th>2</th>\n",
       "      <td>2019-11-03</td>\n",
       "      <td>1</td>\n",
       "    </tr>\n",
       "    <tr>\n",
       "      <th>3</th>\n",
       "      <td>2019-11-04</td>\n",
       "      <td>1</td>\n",
       "    </tr>\n",
       "    <tr>\n",
       "      <th>4</th>\n",
       "      <td>2019-11-05</td>\n",
       "      <td>1</td>\n",
       "    </tr>\n",
       "    <tr>\n",
       "      <th>5</th>\n",
       "      <td>2019-11-06</td>\n",
       "      <td>2</td>\n",
       "    </tr>\n",
       "    <tr>\n",
       "      <th>6</th>\n",
       "      <td>2019-11-07</td>\n",
       "      <td>1</td>\n",
       "    </tr>\n",
       "    <tr>\n",
       "      <th>7</th>\n",
       "      <td>2019-11-09</td>\n",
       "      <td>3</td>\n",
       "    </tr>\n",
       "    <tr>\n",
       "      <th>8</th>\n",
       "      <td>2019-11-10</td>\n",
       "      <td>3</td>\n",
       "    </tr>\n",
       "    <tr>\n",
       "      <th>9</th>\n",
       "      <td>2019-11-11</td>\n",
       "      <td>1</td>\n",
       "    </tr>\n",
       "    <tr>\n",
       "      <th>10</th>\n",
       "      <td>2019-11-16</td>\n",
       "      <td>2</td>\n",
       "    </tr>\n",
       "    <tr>\n",
       "      <th>11</th>\n",
       "      <td>2019-11-17</td>\n",
       "      <td>1</td>\n",
       "    </tr>\n",
       "    <tr>\n",
       "      <th>12</th>\n",
       "      <td>2019-11-18</td>\n",
       "      <td>2</td>\n",
       "    </tr>\n",
       "    <tr>\n",
       "      <th>13</th>\n",
       "      <td>2019-11-19</td>\n",
       "      <td>1</td>\n",
       "    </tr>\n",
       "    <tr>\n",
       "      <th>14</th>\n",
       "      <td>2019-11-20</td>\n",
       "      <td>93</td>\n",
       "    </tr>\n",
       "    <tr>\n",
       "      <th>15</th>\n",
       "      <td>2019-11-21</td>\n",
       "      <td>94</td>\n",
       "    </tr>\n",
       "    <tr>\n",
       "      <th>16</th>\n",
       "      <td>2019-11-22</td>\n",
       "      <td>850</td>\n",
       "    </tr>\n",
       "    <tr>\n",
       "      <th>17</th>\n",
       "      <td>2019-11-23</td>\n",
       "      <td>3493</td>\n",
       "    </tr>\n",
       "    <tr>\n",
       "      <th>18</th>\n",
       "      <td>2019-11-24</td>\n",
       "      <td>10679</td>\n",
       "    </tr>\n",
       "    <tr>\n",
       "      <th>19</th>\n",
       "      <td>2019-11-25</td>\n",
       "      <td>7032</td>\n",
       "    </tr>\n",
       "    <tr>\n",
       "      <th>20</th>\n",
       "      <td>2019-11-26</td>\n",
       "      <td>7284</td>\n",
       "    </tr>\n",
       "    <tr>\n",
       "      <th>21</th>\n",
       "      <td>2019-11-27</td>\n",
       "      <td>7789</td>\n",
       "    </tr>\n",
       "    <tr>\n",
       "      <th>22</th>\n",
       "      <td>2019-11-28</td>\n",
       "      <td>16988</td>\n",
       "    </tr>\n",
       "    <tr>\n",
       "      <th>23</th>\n",
       "      <td>2019-11-29</td>\n",
       "      <td>9918</td>\n",
       "    </tr>\n",
       "    <tr>\n",
       "      <th>24</th>\n",
       "      <td>2019-11-30</td>\n",
       "      <td>8004</td>\n",
       "    </tr>\n",
       "    <tr>\n",
       "      <th>25</th>\n",
       "      <td>2019-12-01</td>\n",
       "      <td>4506</td>\n",
       "    </tr>\n",
       "    <tr>\n",
       "      <th>26</th>\n",
       "      <td>2019-12-02</td>\n",
       "      <td>5561</td>\n",
       "    </tr>\n",
       "    <tr>\n",
       "      <th>27</th>\n",
       "      <td>2019-12-03</td>\n",
       "      <td>7627</td>\n",
       "    </tr>\n",
       "    <tr>\n",
       "      <th>28</th>\n",
       "      <td>2019-12-04</td>\n",
       "      <td>6091</td>\n",
       "    </tr>\n",
       "    <tr>\n",
       "      <th>29</th>\n",
       "      <td>2019-12-05</td>\n",
       "      <td>11220</td>\n",
       "    </tr>\n",
       "    <tr>\n",
       "      <th>30</th>\n",
       "      <td>2019-12-06</td>\n",
       "      <td>10451</td>\n",
       "    </tr>\n",
       "    <tr>\n",
       "      <th>31</th>\n",
       "      <td>2019-12-07</td>\n",
       "      <td>10158</td>\n",
       "    </tr>\n",
       "    <tr>\n",
       "      <th>32</th>\n",
       "      <td>2019-12-08</td>\n",
       "      <td>9501</td>\n",
       "    </tr>\n",
       "    <tr>\n",
       "      <th>33</th>\n",
       "      <td>2019-12-09</td>\n",
       "      <td>5586</td>\n",
       "    </tr>\n",
       "    <tr>\n",
       "      <th>34</th>\n",
       "      <td>2019-12-10</td>\n",
       "      <td>4857</td>\n",
       "    </tr>\n",
       "    <tr>\n",
       "      <th>35</th>\n",
       "      <td>2019-12-11</td>\n",
       "      <td>24</td>\n",
       "    </tr>\n",
       "    <tr>\n",
       "      <th>36</th>\n",
       "      <td>2019-12-13</td>\n",
       "      <td>1</td>\n",
       "    </tr>\n",
       "    <tr>\n",
       "      <th>37</th>\n",
       "      <td>2019-12-14</td>\n",
       "      <td>2</td>\n",
       "    </tr>\n",
       "    <tr>\n",
       "      <th>38</th>\n",
       "      <td>2019-12-15</td>\n",
       "      <td>2</td>\n",
       "    </tr>\n",
       "    <tr>\n",
       "      <th>39</th>\n",
       "      <td>2019-12-16</td>\n",
       "      <td>1</td>\n",
       "    </tr>\n",
       "    <tr>\n",
       "      <th>40</th>\n",
       "      <td>2019-12-18</td>\n",
       "      <td>1</td>\n",
       "    </tr>\n",
       "    <tr>\n",
       "      <th>41</th>\n",
       "      <td>2019-12-19</td>\n",
       "      <td>1</td>\n",
       "    </tr>\n",
       "    <tr>\n",
       "      <th>42</th>\n",
       "      <td>2019-12-20</td>\n",
       "      <td>2</td>\n",
       "    </tr>\n",
       "    <tr>\n",
       "      <th>43</th>\n",
       "      <td>2019-12-21</td>\n",
       "      <td>4</td>\n",
       "    </tr>\n",
       "    <tr>\n",
       "      <th>44</th>\n",
       "      <td>2019-12-22</td>\n",
       "      <td>4</td>\n",
       "    </tr>\n",
       "    <tr>\n",
       "      <th>45</th>\n",
       "      <td>2019-12-23</td>\n",
       "      <td>7</td>\n",
       "    </tr>\n",
       "    <tr>\n",
       "      <th>46</th>\n",
       "      <td>2019-12-24</td>\n",
       "      <td>3</td>\n",
       "    </tr>\n",
       "    <tr>\n",
       "      <th>47</th>\n",
       "      <td>2019-12-25</td>\n",
       "      <td>2</td>\n",
       "    </tr>\n",
       "    <tr>\n",
       "      <th>48</th>\n",
       "      <td>2019-12-26</td>\n",
       "      <td>4</td>\n",
       "    </tr>\n",
       "    <tr>\n",
       "      <th>49</th>\n",
       "      <td>2019-12-27</td>\n",
       "      <td>2</td>\n",
       "    </tr>\n",
       "    <tr>\n",
       "      <th>50</th>\n",
       "      <td>2019-12-28</td>\n",
       "      <td>3</td>\n",
       "    </tr>\n",
       "    <tr>\n",
       "      <th>51</th>\n",
       "      <td>2019-12-29</td>\n",
       "      <td>2</td>\n",
       "    </tr>\n",
       "    <tr>\n",
       "      <th>52</th>\n",
       "      <td>2019-12-30</td>\n",
       "      <td>1</td>\n",
       "    </tr>\n",
       "  </tbody>\n",
       "</table>\n",
       "</div>"
      ],
      "text/plain": [
       "          date  count\n",
       "0   2019-11-01      1\n",
       "1   2019-11-02      2\n",
       "2   2019-11-03      1\n",
       "3   2019-11-04      1\n",
       "4   2019-11-05      1\n",
       "5   2019-11-06      2\n",
       "6   2019-11-07      1\n",
       "7   2019-11-09      3\n",
       "8   2019-11-10      3\n",
       "9   2019-11-11      1\n",
       "10  2019-11-16      2\n",
       "11  2019-11-17      1\n",
       "12  2019-11-18      2\n",
       "13  2019-11-19      1\n",
       "14  2019-11-20     93\n",
       "15  2019-11-21     94\n",
       "16  2019-11-22    850\n",
       "17  2019-11-23   3493\n",
       "18  2019-11-24  10679\n",
       "19  2019-11-25   7032\n",
       "20  2019-11-26   7284\n",
       "21  2019-11-27   7789\n",
       "22  2019-11-28  16988\n",
       "23  2019-11-29   9918\n",
       "24  2019-11-30   8004\n",
       "25  2019-12-01   4506\n",
       "26  2019-12-02   5561\n",
       "27  2019-12-03   7627\n",
       "28  2019-12-04   6091\n",
       "29  2019-12-05  11220\n",
       "30  2019-12-06  10451\n",
       "31  2019-12-07  10158\n",
       "32  2019-12-08   9501\n",
       "33  2019-12-09   5586\n",
       "34  2019-12-10   4857\n",
       "35  2019-12-11     24\n",
       "36  2019-12-13      1\n",
       "37  2019-12-14      2\n",
       "38  2019-12-15      2\n",
       "39  2019-12-16      1\n",
       "40  2019-12-18      1\n",
       "41  2019-12-19      1\n",
       "42  2019-12-20      2\n",
       "43  2019-12-21      4\n",
       "44  2019-12-22      4\n",
       "45  2019-12-23      7\n",
       "46  2019-12-24      3\n",
       "47  2019-12-25      2\n",
       "48  2019-12-26      4\n",
       "49  2019-12-27      2\n",
       "50  2019-12-28      3\n",
       "51  2019-12-29      2\n",
       "52  2019-12-30      1"
      ]
     },
     "metadata": {},
     "output_type": "display_data"
    }
   ],
   "source": [
    "query = \"\"\"\n",
    "select date(time), count(*) from point\n",
    "where time > '2019-11-01'\n",
    "group by 1\n",
    "order by 1\n",
    "\"\"\"\n",
    "display(pd.read_sql_query(query, engine))"
   ]
  },
  {
   "cell_type": "markdown",
   "metadata": {},
   "source": [
    "# Find tracks for day"
   ]
  },
  {
   "cell_type": "code",
   "execution_count": 6,
   "metadata": {},
   "outputs": [],
   "source": [
    "date = \"2019-11-30\""
   ]
  },
  {
   "cell_type": "code",
   "execution_count": 7,
   "metadata": {},
   "outputs": [
    {
     "data": {
      "text/html": [
       "<div>\n",
       "<style scoped>\n",
       "    .dataframe tbody tr th:only-of-type {\n",
       "        vertical-align: middle;\n",
       "    }\n",
       "\n",
       "    .dataframe tbody tr th {\n",
       "        vertical-align: top;\n",
       "    }\n",
       "\n",
       "    .dataframe thead th {\n",
       "        text-align: right;\n",
       "    }\n",
       "</style>\n",
       "<table border=\"1\" class=\"dataframe\">\n",
       "  <thead>\n",
       "    <tr style=\"text-align: right;\">\n",
       "      <th></th>\n",
       "      <th>id</th>\n",
       "      <th>min_time</th>\n",
       "      <th>max_time</th>\n",
       "    </tr>\n",
       "  </thead>\n",
       "  <tbody>\n",
       "    <tr>\n",
       "      <th>0</th>\n",
       "      <td>12744</td>\n",
       "      <td>2019-12-01 05:11:29+00:00</td>\n",
       "      <td>2019-12-01 05:12:36+00:00</td>\n",
       "    </tr>\n",
       "    <tr>\n",
       "      <th>1</th>\n",
       "      <td>1522</td>\n",
       "      <td>2019-12-01 08:54:26+00:00</td>\n",
       "      <td>2019-12-01 08:54:26+00:00</td>\n",
       "    </tr>\n",
       "    <tr>\n",
       "      <th>2</th>\n",
       "      <td>12692</td>\n",
       "      <td>2019-11-30 00:49:21+00:00</td>\n",
       "      <td>2019-11-30 00:54:11+00:00</td>\n",
       "    </tr>\n",
       "    <tr>\n",
       "      <th>3</th>\n",
       "      <td>12686</td>\n",
       "      <td>2019-11-30 00:04:24+00:00</td>\n",
       "      <td>2019-11-30 00:06:49+00:00</td>\n",
       "    </tr>\n",
       "    <tr>\n",
       "      <th>4</th>\n",
       "      <td>12756</td>\n",
       "      <td>2019-12-01 10:20:40+00:00</td>\n",
       "      <td>2019-12-02 00:35:14+00:00</td>\n",
       "    </tr>\n",
       "    <tr>\n",
       "      <th>...</th>\n",
       "      <td>...</td>\n",
       "      <td>...</td>\n",
       "      <td>...</td>\n",
       "    </tr>\n",
       "    <tr>\n",
       "      <th>203</th>\n",
       "      <td>12675</td>\n",
       "      <td>2019-11-29 07:52:30+00:00</td>\n",
       "      <td>2019-11-29 07:59:21+00:00</td>\n",
       "    </tr>\n",
       "    <tr>\n",
       "      <th>204</th>\n",
       "      <td>1417</td>\n",
       "      <td>2019-11-30 00:54:22+00:00</td>\n",
       "      <td>2019-11-30 00:54:22+00:00</td>\n",
       "    </tr>\n",
       "    <tr>\n",
       "      <th>205</th>\n",
       "      <td>12712</td>\n",
       "      <td>2019-11-30 06:37:32+00:00</td>\n",
       "      <td>2019-11-30 07:12:21+00:00</td>\n",
       "    </tr>\n",
       "    <tr>\n",
       "      <th>206</th>\n",
       "      <td>12742</td>\n",
       "      <td>2019-12-01 04:52:27+00:00</td>\n",
       "      <td>2019-12-01 04:58:22+00:00</td>\n",
       "    </tr>\n",
       "    <tr>\n",
       "      <th>207</th>\n",
       "      <td>12699</td>\n",
       "      <td>2019-11-30 01:49:43+00:00</td>\n",
       "      <td>2019-11-30 02:09:51+00:00</td>\n",
       "    </tr>\n",
       "  </tbody>\n",
       "</table>\n",
       "<p>208 rows × 3 columns</p>\n",
       "</div>"
      ],
      "text/plain": [
       "        id                  min_time                  max_time\n",
       "0    12744 2019-12-01 05:11:29+00:00 2019-12-01 05:12:36+00:00\n",
       "1     1522 2019-12-01 08:54:26+00:00 2019-12-01 08:54:26+00:00\n",
       "2    12692 2019-11-30 00:49:21+00:00 2019-11-30 00:54:11+00:00\n",
       "3    12686 2019-11-30 00:04:24+00:00 2019-11-30 00:06:49+00:00\n",
       "4    12756 2019-12-01 10:20:40+00:00 2019-12-02 00:35:14+00:00\n",
       "..     ...                       ...                       ...\n",
       "203  12675 2019-11-29 07:52:30+00:00 2019-11-29 07:59:21+00:00\n",
       "204   1417 2019-11-30 00:54:22+00:00 2019-11-30 00:54:22+00:00\n",
       "205  12712 2019-11-30 06:37:32+00:00 2019-11-30 07:12:21+00:00\n",
       "206  12742 2019-12-01 04:52:27+00:00 2019-12-01 04:58:22+00:00\n",
       "207  12699 2019-11-30 01:49:43+00:00 2019-11-30 02:09:51+00:00\n",
       "\n",
       "[208 rows x 3 columns]"
      ]
     },
     "metadata": {},
     "output_type": "display_data"
    }
   ],
   "source": [
    "bracket_query = \"\"\"\n",
    "select track.id, min(time) as min_time, max(time) as max_time from track\n",
    "join point on track_id = track.id\n",
    "group by track.id\n",
    "having abs(date(min(time)) - %(date)s) < 2  or abs(date(max(time)) - %(date)s) < 2\n",
    "\"\"\"\n",
    "display(pd.read_sql_query(bracket_query, engine, params={'date': date}))\n"
   ]
  },
  {
   "cell_type": "code",
   "execution_count": 8,
   "metadata": {},
   "outputs": [
    {
     "data": {
      "text/plain": [
       "208"
      ]
     },
     "execution_count": 8,
     "metadata": {},
     "output_type": "execute_result"
    }
   ],
   "source": [
    "bracket_tracks = [session.query(GPSTrack).get(int(t)) \n",
    "                  for t in pd.read_sql_query(bracket_query, engine, params={'date': date})[['id']].values]\n",
    "len(bracket_tracks)"
   ]
  },
  {
   "cell_type": "code",
   "execution_count": 9,
   "metadata": {},
   "outputs": [
    {
     "data": {
      "text/plain": [
       "103"
      ]
     },
     "execution_count": 9,
     "metadata": {},
     "output_type": "execute_result"
    }
   ],
   "source": [
    "day_tracks = [t for t in bracket_tracks \n",
    "              if str(t.start.localtime.date()) == date or str(t.end.localtime.date()) == date]\n",
    "len(day_tracks)"
   ]
  },
  {
   "cell_type": "code",
   "execution_count": 12,
   "metadata": {},
   "outputs": [
    {
     "data": {
      "text/plain": [
       "{'2019-11-29.json.gz',\n",
       " '2019-11-30 2.json.gz',\n",
       " '2019-12-01.json.gz',\n",
       " None,\n",
       " 'inreach.gpx'}"
      ]
     },
     "execution_count": 12,
     "metadata": {},
     "output_type": "execute_result"
    }
   ],
   "source": [
    "set([t.filename for t in day_tracks])"
   ]
  },
  {
   "cell_type": "code",
   "execution_count": 13,
   "metadata": {},
   "outputs": [
    {
     "data": {
      "text/plain": [
       "{'1, Nachisan',\n",
       " '156-1, Nachisan',\n",
       " '2, Tsukiji 6-Chōme',\n",
       " '3006, Ichinono',\n",
       " '396, Nachisan',\n",
       " '447, Nachisan',\n",
       " '8, Nachisan',\n",
       " 'Aneel Nazareth (9931878)',\n",
       " 'Daimonzaka',\n",
       " 'Hotel Kuu Kyoto (ホテル空)',\n",
       " 'Kii-Katsuura Station (紀伊勝浦駅)',\n",
       " 'Kumano Nachi Taisha (熊野那智大社)',\n",
       " 'Kyoto Beer Lab (京都ビアラボ)',\n",
       " 'Nachi Falls (那智の瀧)',\n",
       " 'Nachisan',\n",
       " None,\n",
       " 'RIO',\n",
       " 'Seiganto-ji',\n",
       " 'Shingū',\n",
       " 'Shinkansen Kyoto Station (東海道新幹線 京都駅)',\n",
       " 'Shinkansen Nagoya Station (東海道新幹線 名古屋駅)',\n",
       " 'Three Story pagoda',\n",
       " 'Unknown Place',\n",
       " 'Veg Out',\n",
       " '勝浦駅 バス停',\n",
       " '南紀勝浦温泉 万清楼',\n",
       " '熊野交通 勝浦駅前出札所',\n",
       " '那智の滝前バス停'}"
      ]
     },
     "execution_count": 13,
     "metadata": {},
     "output_type": "execute_result"
    }
   ],
   "source": [
    "set([t.name for t in day_tracks])"
   ]
  },
  {
   "cell_type": "code",
   "execution_count": 14,
   "metadata": {},
   "outputs": [
    {
     "data": {
      "text/plain": [
       "{datetime.date(2019, 11, 29), datetime.date(2019, 11, 30)}"
      ]
     },
     "execution_count": 14,
     "metadata": {},
     "output_type": "execute_result"
    }
   ],
   "source": [
    "set([t.start.localtime.date() for t in day_tracks])"
   ]
  },
  {
   "cell_type": "markdown",
   "metadata": {},
   "source": [
    "# Visualization"
   ]
  },
  {
   "cell_type": "code",
   "execution_count": 34,
   "metadata": {},
   "outputs": [],
   "source": [
    "from ipyleaflet import (\n",
    "    Map,\n",
    "    Marker, MarkerCluster,\n",
    "    Polyline, \n",
    "    Popup,\n",
    "    GeoJSON,\n",
    "    DrawControl\n",
    ")\n",
    "from ipywidgets import HTML\n",
    "\n",
    "from traitlets import link, Tuple"
   ]
  },
  {
   "cell_type": "code",
   "execution_count": 78,
   "metadata": {},
   "outputs": [],
   "source": [
    "def marker(t):\n",
    "    marker = Marker(location=t.points[0].lat_lon)\n",
    "    marker.popup = HTML(f\"{t.id}: {t.name}\")\n",
    "    return marker\n",
    "\n",
    "def add_track(m, t, **kwargs):\n",
    "        l = t.as_polyline(\n",
    "            fill=False,\n",
    "            **kwargs\n",
    "        )\n",
    "        m.add_layer(l)\n",
    "        l.popup = HTML(f\"{t.id}: {t.name or t.filename}<br/>{t.points[0].time} - {t.points[-1].time}\")\n",
    "\n",
    "def bounds(lat_lons):\n",
    "    lats, lons = zip(*lat_lons)\n",
    "    return ((min(lats), min(lons)), (max(lats), max(lons)))\n",
    "        \n",
    "def center(b):\n",
    "    return ((b[0][0] + b[1][0])/2, (b[0][1] + b[1][1])/2)"
   ]
  },
  {
   "cell_type": "code",
   "execution_count": 80,
   "metadata": {},
   "outputs": [
    {
     "data": {
      "application/vnd.jupyter.widget-view+json": {
       "model_id": "fbcb17f22ad94e81bb3a5caf406bed5b",
       "version_major": 2,
       "version_minor": 0
      },
      "text/plain": [
       "Map(center=[33.6727844791298, 135.88931587506792], close_popup_on_click=False, controls=(ZoomControl(options=[…"
      ]
     },
     "metadata": {},
     "output_type": "display_data"
    }
   ],
   "source": [
    "m = Map(center=center(bounds([p.lat_lon for p in t.points for t in day_tracks])), zoom=2, close_popup_on_click=False)\n",
    "\n",
    "markers = []\n",
    "for track in day_tracks:\n",
    "    if len(track.points) == 1 and track.name is not None:\n",
    "        markers.append(marker(track))\n",
    "    else:\n",
    "        add_track(m, track)\n",
    "m.add_layer(MarkerCluster(markers=markers))\n",
    "\n",
    "m"
   ]
  },
  {
   "cell_type": "code",
   "execution_count": null,
   "metadata": {},
   "outputs": [],
   "source": []
  },
  {
   "cell_type": "markdown",
   "metadata": {},
   "source": [
    "# Cleanup overlap"
   ]
  },
  {
   "cell_type": "code",
   "execution_count": 81,
   "metadata": {},
   "outputs": [],
   "source": [
    "from intervaltree import IntervalTree\n",
    "from datetime import timedelta"
   ]
  },
  {
   "cell_type": "code",
   "execution_count": 82,
   "metadata": {},
   "outputs": [],
   "source": [
    "intervals = IntervalTree()\n",
    "for t in day_tracks:\n",
    "    start = t.start.time\n",
    "    end = t.end.time\n",
    "    if start == end:\n",
    "        end += timedelta(seconds=1)\n",
    "    intervals.addi(start, end, [t])\n",
    "intervals.split_overlaps()\n",
    "intervals.merge_equals(data_reducer=lambda a, b: a+b)"
   ]
  },
  {
   "cell_type": "code",
   "execution_count": 83,
   "metadata": {},
   "outputs": [
    {
     "data": {
      "text/plain": [
       "153"
      ]
     },
     "execution_count": 83,
     "metadata": {},
     "output_type": "execute_result"
    }
   ],
   "source": [
    "len(intervals)"
   ]
  },
  {
   "cell_type": "code",
   "execution_count": 84,
   "metadata": {},
   "outputs": [
    {
     "name": "stdout",
     "output_type": "stream",
     "text": [
      "2019-11-29 07:59:25+00:00\t2019-11-29 21:21:10+00:00\t13:21:45\t南紀勝浦温泉 万清楼\n",
      "2019-11-29 21:21:10+00:00\t2019-11-29 21:21:11+00:00\t0:00:01\t南紀勝浦温泉 万清楼\n",
      "2019-11-29 21:21:11+00:00\t2019-11-29 22:54:04+00:00\t1:32:53\t南紀勝浦温泉 万清楼\n",
      "2019-11-29 22:54:27+00:00\t2019-11-29 22:55:15+00:00\t0:00:48\t2019-11-30 2.json.gz\n",
      "2019-11-29 22:55:15+00:00\t2019-11-29 23:02:14+00:00\t0:06:59\tAneel Nazareth (9931878) 2019-11-30 2.json.gz\n",
      "2019-11-29 23:02:14+00:00\t2019-11-29 23:02:18+00:00\t0:00:04\tAneel Nazareth (9931878)\n",
      "2019-11-29 23:02:18+00:00\t2019-11-29 23:02:19+00:00\t0:00:01\tKii-Katsuura Station (紀伊勝浦駅) Aneel Nazareth (9931878)\n",
      "2019-11-29 23:02:19+00:00\t2019-11-29 23:04:46+00:00\t0:02:27\tKii-Katsuura Station (紀伊勝浦駅) Aneel Nazareth (9931878)\n",
      "2019-11-29 23:04:46+00:00\t2019-11-29 23:04:47+00:00\t0:00:01\tKii-Katsuura Station (紀伊勝浦駅) Aneel Nazareth (9931878)\n",
      "2019-11-29 23:04:47+00:00\t2019-11-29 23:20:59+00:00\t0:16:12\tKii-Katsuura Station (紀伊勝浦駅) Aneel Nazareth (9931878)\n",
      "2019-11-29 23:20:59+00:00\t2019-11-29 23:21:00+00:00\t0:00:01\tKii-Katsuura Station (紀伊勝浦駅) Aneel Nazareth (9931878) 熊野交通 勝浦駅前出札所\n",
      "2019-11-29 23:21:00+00:00\t2019-11-29 23:24:52+00:00\t0:03:52\tKii-Katsuura Station (紀伊勝浦駅) Aneel Nazareth (9931878)\n",
      "2019-11-29 23:24:52+00:00\t2019-11-29 23:24:55+00:00\t0:00:03\tAneel Nazareth (9931878)\n",
      "2019-11-29 23:24:55+00:00\t2019-11-29 23:46:00+00:00\t0:21:05\tAneel Nazareth (9931878) 2019-11-30 2.json.gz\n",
      "2019-11-29 23:46:00+00:00\t2019-11-29 23:46:06+00:00\t0:00:06\tAneel Nazareth (9931878)\n",
      "2019-11-29 23:46:06+00:00\t2019-11-29 23:46:07+00:00\t0:00:01\tDaimonzaka Aneel Nazareth (9931878) 2019-11-30 2.json.gz 3006, Ichinono\n",
      "2019-11-29 23:46:07+00:00\t2019-11-29 23:48:48+00:00\t0:02:41\tAneel Nazareth (9931878) 2019-11-30 2.json.gz\n",
      "2019-11-29 23:48:48+00:00\t2019-11-29 23:48:54+00:00\t0:00:06\tAneel Nazareth (9931878)\n",
      "2019-11-29 23:48:54+00:00\t2019-11-29 23:49:24+00:00\t0:00:30\tAneel Nazareth (9931878) 2019-11-30 2.json.gz\n",
      "2019-11-29 23:49:24+00:00\t2019-11-29 23:49:25+00:00\t0:00:01\tDaimonzaka Aneel Nazareth (9931878) 2019-11-30 2.json.gz\n",
      "2019-11-29 23:49:25+00:00\t2019-11-29 23:57:08+00:00\t0:07:43\tAneel Nazareth (9931878) 2019-11-30 2.json.gz\n",
      "2019-11-29 23:57:08+00:00\t2019-11-29 23:57:14+00:00\t0:00:06\tAneel Nazareth (9931878)\n",
      "2019-11-29 23:57:14+00:00\t2019-11-29 23:57:15+00:00\t0:00:01\tAneel Nazareth (9931878) 396, Nachisan 2019-11-30 2.json.gz\n",
      "2019-11-29 23:57:15+00:00\t2019-11-30 00:00:08+00:00\t0:02:53\tAneel Nazareth (9931878) 2019-11-30 2.json.gz\n",
      "2019-11-30 00:00:08+00:00\t2019-11-30 00:00:13+00:00\t0:00:05\tAneel Nazareth (9931878)\n",
      "2019-11-30 00:00:13+00:00\t2019-11-30 00:01:30+00:00\t0:01:17\tAneel Nazareth (9931878) 2019-11-30 2.json.gz\n",
      "2019-11-30 00:01:30+00:00\t2019-11-30 00:01:34+00:00\t0:00:04\tAneel Nazareth (9931878)\n",
      "2019-11-30 00:01:34+00:00\t2019-11-30 00:01:35+00:00\t0:00:01\tAneel Nazareth (9931878) 396, Nachisan 2019-11-30 2.json.gz\n",
      "2019-11-30 00:01:35+00:00\t2019-11-30 00:04:18+00:00\t0:02:43\tAneel Nazareth (9931878) 2019-11-30 2.json.gz\n",
      "2019-11-30 00:04:18+00:00\t2019-11-30 00:04:24+00:00\t0:00:06\tAneel Nazareth (9931878)\n",
      "2019-11-30 00:04:24+00:00\t2019-11-30 00:06:49+00:00\t0:02:25\tAneel Nazareth (9931878) 2019-11-30 2.json.gz\n",
      "2019-11-30 00:06:49+00:00\t2019-11-30 00:06:51+00:00\t0:00:02\tAneel Nazareth (9931878)\n",
      "2019-11-30 00:06:51+00:00\t2019-11-30 00:06:52+00:00\t0:00:01\tAneel Nazareth (9931878) 447, Nachisan 2019-11-30 2.json.gz\n",
      "2019-11-30 00:06:52+00:00\t2019-11-30 00:09:25+00:00\t0:02:33\tAneel Nazareth (9931878) 2019-11-30 2.json.gz\n",
      "2019-11-30 00:09:25+00:00\t2019-11-30 00:09:29+00:00\t0:00:04\tAneel Nazareth (9931878)\n",
      "2019-11-30 00:09:29+00:00\t2019-11-30 00:36:29+00:00\t0:27:00\tAneel Nazareth (9931878) 2019-11-30 2.json.gz\n",
      "2019-11-30 00:36:29+00:00\t2019-11-30 00:36:33+00:00\t0:00:04\tAneel Nazareth (9931878)\n",
      "2019-11-30 00:36:33+00:00\t2019-11-30 00:36:34+00:00\t0:00:01\t156-1, Nachisan Aneel Nazareth (9931878) 2019-11-30 2.json.gz\n",
      "2019-11-30 00:36:34+00:00\t2019-11-30 00:39:08+00:00\t0:02:34\tAneel Nazareth (9931878) 2019-11-30 2.json.gz\n",
      "2019-11-30 00:39:08+00:00\t2019-11-30 00:39:12+00:00\t0:00:04\tAneel Nazareth (9931878)\n",
      "2019-11-30 00:39:12+00:00\t2019-11-30 00:45:02+00:00\t0:05:50\tAneel Nazareth (9931878) 2019-11-30 2.json.gz\n",
      "2019-11-30 00:45:02+00:00\t2019-11-30 00:45:03+00:00\t0:00:01\tKumano Nachi Taisha (熊野那智大社) Aneel Nazareth (9931878) 2019-11-30 2.json.gz\n",
      "2019-11-30 00:45:03+00:00\t2019-11-30 00:46:24+00:00\t0:01:21\tAneel Nazareth (9931878) 2019-11-30 2.json.gz\n",
      "2019-11-30 00:46:24+00:00\t2019-11-30 00:46:28+00:00\t0:00:04\tAneel Nazareth (9931878)\n",
      "2019-11-30 00:46:28+00:00\t2019-11-30 00:46:29+00:00\t0:00:01\t1, Nachisan Aneel Nazareth (9931878) 2019-11-30 2.json.gz\n",
      "2019-11-30 00:46:29+00:00\t2019-11-30 00:49:17+00:00\t0:02:48\tAneel Nazareth (9931878) 2019-11-30 2.json.gz\n",
      "2019-11-30 00:49:17+00:00\t2019-11-30 00:49:21+00:00\t0:00:04\tAneel Nazareth (9931878)\n",
      "2019-11-30 00:49:21+00:00\t2019-11-30 00:49:22+00:00\t0:00:01\t1, Nachisan Aneel Nazareth (9931878) 2019-11-30 2.json.gz\n",
      "2019-11-30 00:49:22+00:00\t2019-11-30 00:54:11+00:00\t0:04:49\tAneel Nazareth (9931878) 2019-11-30 2.json.gz\n",
      "2019-11-30 00:54:11+00:00\t2019-11-30 00:54:22+00:00\t0:00:11\tAneel Nazareth (9931878)\n",
      "2019-11-30 00:54:22+00:00\t2019-11-30 00:54:23+00:00\t0:00:01\tSeiganto-ji Aneel Nazareth (9931878) 2019-11-30 2.json.gz 8, Nachisan\n",
      "2019-11-30 00:54:23+00:00\t2019-11-30 01:06:54+00:00\t0:12:31\tAneel Nazareth (9931878) 2019-11-30 2.json.gz\n",
      "2019-11-30 01:06:54+00:00\t2019-11-30 01:06:57+00:00\t0:00:03\tAneel Nazareth (9931878)\n",
      "2019-11-30 01:06:57+00:00\t2019-11-30 01:13:05+00:00\t0:06:08\tAneel Nazareth (9931878) 2019-11-30 2.json.gz\n",
      "2019-11-30 01:13:05+00:00\t2019-11-30 01:13:09+00:00\t0:00:04\tAneel Nazareth (9931878)\n",
      "2019-11-30 01:13:09+00:00\t2019-11-30 01:13:10+00:00\t0:00:01\tAneel Nazareth (9931878) Nachisan 2019-11-30 2.json.gz Three Story pagoda\n",
      "2019-11-30 01:13:10+00:00\t2019-11-30 01:19:58+00:00\t0:06:48\tAneel Nazareth (9931878) 2019-11-30 2.json.gz\n",
      "2019-11-30 01:19:58+00:00\t2019-11-30 01:20:01+00:00\t0:00:03\tAneel Nazareth (9931878)\n",
      "2019-11-30 01:20:01+00:00\t2019-11-30 01:20:23+00:00\t0:00:22\tAneel Nazareth (9931878) 2019-11-30 2.json.gz\n",
      "2019-11-30 01:20:23+00:00\t2019-11-30 01:20:26+00:00\t0:00:03\tAneel Nazareth (9931878)\n",
      "2019-11-30 01:20:26+00:00\t2019-11-30 01:20:27+00:00\t0:00:01\tAneel Nazareth (9931878) Nachisan 2019-11-30 2.json.gz\n",
      "2019-11-30 01:20:27+00:00\t2019-11-30 01:27:11+00:00\t0:06:44\tAneel Nazareth (9931878) 2019-11-30 2.json.gz\n",
      "2019-11-30 01:27:11+00:00\t2019-11-30 01:27:16+00:00\t0:00:05\tAneel Nazareth (9931878)\n",
      "2019-11-30 01:27:16+00:00\t2019-11-30 01:45:41+00:00\t0:18:25\tAneel Nazareth (9931878) 2019-11-30 2.json.gz\n",
      "2019-11-30 01:45:41+00:00\t2019-11-30 01:45:42+00:00\t0:00:01\tAneel Nazareth (9931878) 2019-11-30 2.json.gz Nachi Falls (那智の瀧)\n",
      "2019-11-30 01:45:42+00:00\t2019-11-30 01:49:35+00:00\t0:03:53\tAneel Nazareth (9931878) 2019-11-30 2.json.gz\n",
      "2019-11-30 01:49:35+00:00\t2019-11-30 01:49:43+00:00\t0:00:08\tAneel Nazareth (9931878)\n",
      "2019-11-30 01:49:43+00:00\t2019-11-30 01:49:44+00:00\t0:00:01\t那智の滝前バス停 Aneel Nazareth (9931878)\n",
      "2019-11-30 01:49:44+00:00\t2019-11-30 02:00:27+00:00\t0:10:43\t那智の滝前バス停 Aneel Nazareth (9931878)\n",
      "2019-11-30 02:00:27+00:00\t2019-11-30 02:00:28+00:00\t0:00:01\t那智の滝前バス停 Aneel Nazareth (9931878)\n",
      "2019-11-30 02:00:28+00:00\t2019-11-30 02:09:51+00:00\t0:09:23\t那智の滝前バス停 Aneel Nazareth (9931878)\n",
      "2019-11-30 02:09:51+00:00\t2019-11-30 02:09:57+00:00\t0:00:06\tAneel Nazareth (9931878)\n",
      "2019-11-30 02:09:57+00:00\t2019-11-30 02:32:37+00:00\t0:22:40\tAneel Nazareth (9931878) 2019-11-30 2.json.gz\n",
      "2019-11-30 02:32:37+00:00\t2019-11-30 02:32:46+00:00\t0:00:09\tAneel Nazareth (9931878)\n",
      "2019-11-30 02:32:46+00:00\t2019-11-30 02:33:53+00:00\t0:01:07\tAneel Nazareth (9931878) 2019-11-30 2.json.gz\n",
      "2019-11-30 02:33:53+00:00\t2019-11-30 02:33:54+00:00\t0:00:01\t勝浦駅 バス停 Aneel Nazareth (9931878) 2019-11-30 2.json.gz\n",
      "2019-11-30 02:33:54+00:00\t2019-11-30 02:35:58+00:00\t0:02:04\tAneel Nazareth (9931878) 2019-11-30 2.json.gz\n",
      "2019-11-30 02:35:58+00:00\t2019-11-30 02:37:57+00:00\t0:01:59\tAneel Nazareth (9931878)\n",
      "2019-11-30 02:37:57+00:00\t2019-11-30 02:37:58+00:00\t0:00:01\tKii-Katsuura Station (紀伊勝浦駅) Aneel Nazareth (9931878)\n",
      "2019-11-30 02:37:58+00:00\t2019-11-30 02:39:33+00:00\t0:01:35\tKii-Katsuura Station (紀伊勝浦駅) Aneel Nazareth (9931878)\n",
      "2019-11-30 02:39:33+00:00\t2019-11-30 02:39:34+00:00\t0:00:01\tRIO Aneel Nazareth (9931878) Kii-Katsuura Station (紀伊勝浦駅)\n",
      "2019-11-30 02:39:34+00:00\t2019-11-30 03:13:57+00:00\t0:34:23\tKii-Katsuura Station (紀伊勝浦駅) Aneel Nazareth (9931878)\n",
      "2019-11-30 03:13:57+00:00\t2019-11-30 03:13:58+00:00\t0:00:01\tKii-Katsuura Station (紀伊勝浦駅) Aneel Nazareth (9931878)\n",
      "2019-11-30 03:13:58+00:00\t2019-11-30 03:17:52+00:00\t0:03:54\tKii-Katsuura Station (紀伊勝浦駅) Aneel Nazareth (9931878)\n",
      "2019-11-30 03:17:52+00:00\t2019-11-30 03:18:52+00:00\t0:01:00\tAneel Nazareth (9931878)\n",
      "2019-11-30 03:18:52+00:00\t2019-11-30 03:18:53+00:00\t0:00:01\tAneel Nazareth (9931878) 2, Tsukiji 6-Chōme\n",
      "2019-11-30 03:18:53+00:00\t2019-11-30 03:18:56+00:00\t0:00:03\tAneel Nazareth (9931878)\n",
      "2019-11-30 03:18:56+00:00\t2019-11-30 03:23:37+00:00\t0:04:41\tAneel Nazareth (9931878) 2019-11-30 2.json.gz\n",
      "2019-11-30 03:23:37+00:00\t2019-11-30 03:24:08+00:00\t0:00:31\tAneel Nazareth (9931878)\n",
      "2019-11-30 03:24:08+00:00\t2019-11-30 03:41:44+00:00\t0:17:36\tAneel Nazareth (9931878) 2019-11-30 2.json.gz\n",
      "2019-11-30 03:41:44+00:00\t2019-11-30 03:41:49+00:00\t0:00:05\tAneel Nazareth (9931878)\n",
      "2019-11-30 03:41:49+00:00\t2019-11-30 03:41:50+00:00\t0:00:01\tShingū Aneel Nazareth (9931878) 2019-11-30 2.json.gz\n",
      "2019-11-30 03:41:50+00:00\t2019-11-30 03:44:36+00:00\t0:02:46\tAneel Nazareth (9931878) 2019-11-30 2.json.gz\n",
      "2019-11-30 03:44:36+00:00\t2019-11-30 03:44:43+00:00\t0:00:07\tAneel Nazareth (9931878)\n",
      "2019-11-30 03:44:43+00:00\t2019-11-30 04:14:12+00:00\t0:29:29\tAneel Nazareth (9931878) 2019-11-30 2.json.gz\n",
      "2019-11-30 04:14:12+00:00\t2019-11-30 04:16:19+00:00\t0:02:07\tAneel Nazareth (9931878)\n",
      "2019-11-30 04:16:19+00:00\t2019-11-30 04:17:34+00:00\t0:01:15\tAneel Nazareth (9931878) 2019-11-30 2.json.gz\n",
      "2019-11-30 04:17:34+00:00\t2019-11-30 04:19:55+00:00\t0:02:21\tAneel Nazareth (9931878)\n",
      "2019-11-30 04:19:55+00:00\t2019-11-30 06:15:02+00:00\t1:55:07\tAneel Nazareth (9931878) 2019-11-30 2.json.gz\n",
      "2019-11-30 06:15:02+00:00\t2019-11-30 06:15:06+00:00\t0:00:04\tAneel Nazareth (9931878)\n",
      "2019-11-30 06:15:06+00:00\t2019-11-30 06:16:05+00:00\t0:00:59\tAneel Nazareth (9931878) 2019-11-30 2.json.gz\n",
      "2019-11-30 06:16:05+00:00\t2019-11-30 06:16:13+00:00\t0:00:08\tAneel Nazareth (9931878)\n",
      "2019-11-30 06:16:13+00:00\t2019-11-30 06:29:44+00:00\t0:13:31\tAneel Nazareth (9931878) 2019-11-30 2.json.gz\n",
      "2019-11-30 06:29:44+00:00\t2019-11-30 06:29:51+00:00\t0:00:07\tAneel Nazareth (9931878)\n",
      "2019-11-30 06:29:51+00:00\t2019-11-30 06:37:30+00:00\t0:07:39\tAneel Nazareth (9931878) 2019-11-30 2.json.gz\n",
      "2019-11-30 06:37:30+00:00\t2019-11-30 06:37:32+00:00\t0:00:02\tAneel Nazareth (9931878)\n",
      "2019-11-30 06:37:32+00:00\t2019-11-30 07:12:21+00:00\t0:34:49\tAneel Nazareth (9931878) 2019-11-30 2.json.gz\n",
      "2019-11-30 07:12:21+00:00\t2019-11-30 07:12:30+00:00\t0:00:09\tAneel Nazareth (9931878)\n",
      "2019-11-30 07:12:30+00:00\t2019-11-30 07:15:09+00:00\t0:02:39\tAneel Nazareth (9931878) 2019-11-30 2.json.gz\n",
      "2019-11-30 07:15:09+00:00\t2019-11-30 07:15:24+00:00\t0:00:15\tAneel Nazareth (9931878)\n",
      "2019-11-30 07:15:24+00:00\t2019-11-30 07:15:25+00:00\t0:00:01\tUnknown Place Aneel Nazareth (9931878) 2019-11-30 2.json.gz Shinkansen Nagoya Station (東海道新幹線 名古屋駅)\n",
      "2019-11-30 07:15:25+00:00\t2019-11-30 07:15:32+00:00\t0:00:07\tAneel Nazareth (9931878) 2019-11-30 2.json.gz\n",
      "2019-11-30 07:15:32+00:00\t2019-11-30 07:15:33+00:00\t0:00:01\tAneel Nazareth (9931878) 2019-11-30 2.json.gz Shinkansen Nagoya Station (東海道新幹線 名古屋駅)\n",
      "2019-11-30 07:15:33+00:00\t2019-11-30 07:17:16+00:00\t0:01:43\tAneel Nazareth (9931878) 2019-11-30 2.json.gz\n",
      "2019-11-30 07:17:16+00:00\t2019-11-30 07:17:26+00:00\t0:00:10\tAneel Nazareth (9931878)\n",
      "2019-11-30 07:17:26+00:00\t2019-11-30 07:17:50+00:00\t0:00:24\tAneel Nazareth (9931878) 2019-11-30 2.json.gz\n",
      "2019-11-30 07:17:50+00:00\t2019-11-30 07:17:55+00:00\t0:00:05\tAneel Nazareth (9931878)\n",
      "2019-11-30 07:17:55+00:00\t2019-11-30 07:27:42+00:00\t0:09:47\tAneel Nazareth (9931878) 2019-11-30 2.json.gz\n",
      "2019-11-30 07:27:42+00:00\t2019-11-30 07:27:45+00:00\t0:00:03\tAneel Nazareth (9931878)\n",
      "2019-11-30 07:27:45+00:00\t2019-11-30 07:27:46+00:00\t0:00:01\tAneel Nazareth (9931878) 2019-11-30 2.json.gz Unknown Place\n",
      "2019-11-30 07:27:46+00:00\t2019-11-30 07:30:38+00:00\t0:02:52\tAneel Nazareth (9931878) 2019-11-30 2.json.gz\n",
      "2019-11-30 07:30:38+00:00\t2019-11-30 07:30:45+00:00\t0:00:07\tAneel Nazareth (9931878)\n",
      "2019-11-30 07:30:45+00:00\t2019-11-30 07:44:26+00:00\t0:13:41\tAneel Nazareth (9931878) 2019-11-30 2.json.gz\n",
      "2019-11-30 07:44:26+00:00\t2019-11-30 07:44:36+00:00\t0:00:10\tAneel Nazareth (9931878)\n",
      "2019-11-30 07:44:36+00:00\t2019-11-30 07:44:37+00:00\t0:00:01\t2019-11-30 2.json.gz Aneel Nazareth (9931878) Unknown Place\n",
      "2019-11-30 07:44:37+00:00\t2019-11-30 07:51:06+00:00\t0:06:29\tAneel Nazareth (9931878) 2019-11-30 2.json.gz\n",
      "2019-11-30 07:51:06+00:00\t2019-11-30 07:51:36+00:00\t0:00:30\tAneel Nazareth (9931878)\n",
      "2019-11-30 07:51:36+00:00\t2019-11-30 08:12:46+00:00\t0:21:10\tAneel Nazareth (9931878) 2019-11-30 2.json.gz\n",
      "2019-11-30 08:12:46+00:00\t2019-11-30 08:12:53+00:00\t0:00:07\tAneel Nazareth (9931878)\n",
      "2019-11-30 08:12:53+00:00\t2019-11-30 08:12:54+00:00\t0:00:01\tShinkansen Kyoto Station (東海道新幹線 京都駅) Aneel Nazareth (9931878) 2019-11-30 2.json.gz Unknown Place\n",
      "2019-11-30 08:12:54+00:00\t2019-11-30 08:13:28+00:00\t0:00:34\tAneel Nazareth (9931878) 2019-11-30 2.json.gz\n",
      "2019-11-30 08:13:28+00:00\t2019-11-30 08:13:29+00:00\t0:00:01\tShinkansen Kyoto Station (東海道新幹線 京都駅) Aneel Nazareth (9931878) 2019-11-30 2.json.gz\n",
      "2019-11-30 08:13:29+00:00\t2019-11-30 08:22:03+00:00\t0:08:34\tAneel Nazareth (9931878) 2019-11-30 2.json.gz\n",
      "2019-11-30 08:22:03+00:00\t2019-11-30 08:22:34+00:00\t0:00:31\tAneel Nazareth (9931878)\n",
      "2019-11-30 08:22:34+00:00\t2019-11-30 08:33:31+00:00\t0:10:57\tAneel Nazareth (9931878) 2019-11-30 2.json.gz\n",
      "2019-11-30 08:33:31+00:00\t2019-11-30 08:33:33+00:00\t0:00:02\tAneel Nazareth (9931878)\n",
      "2019-11-30 08:33:33+00:00\t2019-11-30 08:33:34+00:00\t0:00:01\tHotel Kuu Kyoto (ホテル空) Aneel Nazareth (9931878) 2019-11-30 2.json.gz Unknown Place\n",
      "2019-11-30 08:33:34+00:00\t2019-11-30 08:34:43+00:00\t0:01:09\tAneel Nazareth (9931878) 2019-11-30 2.json.gz\n",
      "2019-11-30 08:34:43+00:00\t2019-11-30 08:42:35+00:00\t0:07:52\t2019-11-30 2.json.gz\n",
      "2019-11-30 08:42:35+00:00\t2019-11-30 08:42:36+00:00\t0:00:01\tHotel Kuu Kyoto (ホテル空) 2019-11-30 2.json.gz\n",
      "2019-11-30 08:42:36+00:00\t2019-11-30 09:06:50+00:00\t0:24:14\t2019-11-30 2.json.gz\n",
      "2019-11-30 09:06:53+00:00\t2019-11-30 09:17:09+00:00\t0:10:16\t2019-11-30 2.json.gz\n",
      "2019-11-30 09:17:13+00:00\t2019-11-30 09:17:14+00:00\t0:00:01\t2019-11-30 2.json.gz Unknown Place Veg Out\n",
      "2019-11-30 09:17:14+00:00\t2019-11-30 09:17:34+00:00\t0:00:20\t2019-11-30 2.json.gz\n",
      "2019-11-30 09:17:34+00:00\t2019-11-30 09:17:35+00:00\t0:00:01\t2019-11-30 2.json.gz Veg Out\n",
      "2019-11-30 09:17:35+00:00\t2019-11-30 09:51:39+00:00\t0:34:04\t2019-11-30 2.json.gz\n",
      "2019-11-30 09:52:31+00:00\t2019-11-30 09:52:32+00:00\t0:00:01\t2019-11-30 2.json.gz Kyoto Beer Lab (京都ビアラボ) Unknown Place\n",
      "2019-11-30 09:52:32+00:00\t2019-11-30 09:55:37+00:00\t0:03:05\t2019-11-30 2.json.gz\n",
      "2019-11-30 09:55:37+00:00\t2019-11-30 09:55:38+00:00\t0:00:01\tKyoto Beer Lab (京都ビアラボ) 2019-11-30 2.json.gz\n",
      "2019-11-30 09:55:38+00:00\t2019-11-30 11:11:03+00:00\t1:15:25\t2019-11-30 2.json.gz\n",
      "2019-11-30 11:11:05+00:00\t2019-11-30 11:21:49+00:00\t0:10:44\t2019-11-30 2.json.gz\n",
      "2019-11-30 11:21:55+00:00\t2019-11-30 11:21:56+00:00\t0:00:01\tHotel Kuu Kyoto (ホテル空) 2019-11-30 2.json.gz Unknown Place\n",
      "2019-11-30 11:21:56+00:00\t2019-12-01 00:39:26+00:00\t13:17:30\tHotel Kuu Kyoto (ホテル空) 2019-11-30 2.json.gz\n"
     ]
    }
   ],
   "source": [
    "for i in sorted(intervals):\n",
    "    print(f\"{str(i.begin)}\\t{str(i.end)}\\t{i.end - i.begin}\\t{' '.join(set([t.name or t.filename for t in i.data]))}\")"
   ]
  },
  {
   "cell_type": "markdown",
   "metadata": {},
   "source": [
    "# Output"
   ]
  },
  {
   "cell_type": "code",
   "execution_count": 85,
   "metadata": {},
   "outputs": [],
   "source": [
    "from ipywidgets import interact, interactive, fixed, interact_manual\n",
    "import ipywidgets as widgets\n",
    "from traitlets import Tuple"
   ]
  },
  {
   "cell_type": "code",
   "execution_count": 86,
   "metadata": {},
   "outputs": [],
   "source": [
    "def points_in_interval(i):\n",
    "    return (\n",
    "        session.query(GPSPoint)\n",
    "            .filter(GPSPoint.time >= i.begin)\n",
    "            .filter(GPSPoint.time <= i.end)\n",
    "            .distinct(GPSPoint.time)\n",
    "            .order_by(GPSPoint.time)\n",
    "        ).all()"
   ]
  },
  {
   "cell_type": "code",
   "execution_count": 87,
   "metadata": {},
   "outputs": [],
   "source": [
    "def show_tracks_in_interval(i):\n",
    "    print(f\"{str(i.begin)}\\t{str(i.end)}\\t{i.end - i.begin}\\t{' '.join(set([t.name or t.filename for t in i.data]))}\")\n",
    "    \n",
    "    lines = []\n",
    "    interval_points = points_in_interval(i)\n",
    "    tracks = set(p.track for p in interval_points)\n",
    "    print(f\"{len(interval_points)} points from {[t.name or t.filename or t.id for t in tracks]} tracks\")\n",
    "    b = []\n",
    "    markers = []\n",
    "    for t in tracks:\n",
    "        points = [p for p in interval_points if p.track == t]\n",
    "        print(f\"{len(points)} points from track {t.name or t.filename}\")\n",
    "        if points:\n",
    "            lat_lons = [p.lat_lon for p in points] + [p for p in b]\n",
    "            b = bounds(lat_lons)\n",
    "            if len(points) == 1:\n",
    "                marker = Marker(location=points[0].lat_lon)\n",
    "                marker.popup = HTML(f\"{points[0].track.id}: {points[0].track.name}\")\n",
    "                markers.append(marker)\n",
    "            else:\n",
    "                l = Polyline(locations=lat_lons,\n",
    "                             fill=False,)\n",
    "                lines.append(l)\n",
    "                l.popup = HTML(f\"{t.id}: {t.name or t.filename}<br/>{t.points[0].time} - {t.points[-1].time}\")\n",
    "    b = b or bounds([p.lat_lon for p in t for t in day_tracks])\n",
    "    m = Map(center=center(b), zoom=18, close_popup_on_click=False)\n",
    "\n",
    "    def zoom_out_to_target_bounds(change):\n",
    "        m = change.owner\n",
    "        if m.zoom > 1 and m.target_bounds:\n",
    "            b = m.target_bounds\n",
    "            n = change.new\n",
    "            print(b)\n",
    "            print(n)\n",
    "        if (n[0][0] < b[0][0] and n[0][1] < b[0][1] and\n",
    "            n[1][0] > b[1][0] and n[1][1] > b[1][1]):\n",
    "            # bounds are already large enough, so remove the target\n",
    "            m.target_bounds = None\n",
    "        else:\n",
    "            # zoom out\n",
    "            m.zoom = m.zoom - 1\n",
    "    \n",
    "    m.target_bounds = Tuple()\n",
    "    m.target_bounds = b\n",
    "    m.observe(zoom_out_to_target_bounds, 'bounds')\n",
    "    \n",
    "    m.add_layer(MarkerCluster(markers=markers))\n",
    "    for line in lines:\n",
    "        m.add_layer(line)\n",
    "    display(m)\n",
    "    return (m, b)\n",
    "    "
   ]
  },
  {
   "cell_type": "code",
   "execution_count": 88,
   "metadata": {},
   "outputs": [
    {
     "data": {
      "application/vnd.jupyter.widget-view+json": {
       "model_id": "fb1e45eed55a406488ee663b41790bb4",
       "version_major": 2,
       "version_minor": 0
      },
      "text/plain": [
       "interactive(children=(Dropdown(description='i', options=(('07:59:25', Interval(datetime.datetime(2019, 11, 29,…"
      ]
     },
     "metadata": {},
     "output_type": "display_data"
    }
   ],
   "source": [
    "w = interactive(show_tracks_in_interval, i=[(str(i.begin.time()), i) for i in sorted(intervals) if len(points_in_interval(i)) > 1])\n",
    "w"
   ]
  },
  {
   "cell_type": "code",
   "execution_count": 37,
   "metadata": {},
   "outputs": [],
   "source": [
    "m, b = w.result"
   ]
  },
  {
   "cell_type": "code",
   "execution_count": 63,
   "metadata": {},
   "outputs": [
    {
     "data": {
      "text/plain": [
       "['<GPSTrack 2019-11-30 2.json.gz>', '<GPSTrack Kii-Katsuura Station (紀伊勝浦駅)>']"
      ]
     },
     "execution_count": 63,
     "metadata": {},
     "output_type": "execute_result"
    }
   ],
   "source": [
    "[str(p.track) for p in (session.query(GPSPoint)\n",
    "            .filter(GPSPoint.time >= \"2019-11-29 23:02:14+00:00\")\n",
    "            .filter(GPSPoint.time <= \"2019-11-29 23:02:18+00:00\")\n",
    "            .distinct(GPSPoint.time)\n",
    "            .order_by(GPSPoint.time)\n",
    "        ).all()]"
   ]
  },
  {
   "cell_type": "code",
   "execution_count": 38,
   "metadata": {},
   "outputs": [
    {
     "data": {
      "text/plain": [
       "[135.94552293661872, 33.62784545024766, 135.9467204236068, 33.628768664971425]"
      ]
     },
     "execution_count": 38,
     "metadata": {},
     "output_type": "execute_result"
    }
   ],
   "source": [
    "m.target_bounds"
   ]
  },
  {
   "cell_type": "code",
   "execution_count": 42,
   "metadata": {},
   "outputs": [],
   "source": []
  },
  {
   "cell_type": "code",
   "execution_count": 28,
   "metadata": {},
   "outputs": [
    {
     "name": "stdout",
     "output_type": "stream",
     "text": [
      "18\t((33.669434469301876, 135.89715600013736), (33.671220265516354, 135.90455353260043))\n",
      "17\t((33.669434469301876, 135.89715600013736), (33.671220265516354, 135.90455353260043))\n",
      "16\t((33.669434469301876, 135.89715600013736), (33.671220265516354, 135.90455353260043))\n",
      "15\t((33.669434469301876, 135.89715600013736), (33.671220265516354, 135.90455353260043))\n",
      "14\t((33.669434469301876, 135.89715600013736), (33.671220265516354, 135.90455353260043))\n",
      "13\t((33.669434469301876, 135.89715600013736), (33.671220265516354, 135.90455353260043))\n",
      "12\t((33.669434469301876, 135.89715600013736), (33.671220265516354, 135.90455353260043))\n",
      "11\t((33.669434469301876, 135.89715600013736), (33.671220265516354, 135.90455353260043))\n",
      "10\t((33.669434469301876, 135.89715600013736), (33.671220265516354, 135.90455353260043))\n",
      "9\t((33.669434469301876, 135.89715600013736), (33.671220265516354, 135.90455353260043))\n",
      "8\t((33.669434469301876, 135.89715600013736), (33.671220265516354, 135.90455353260043))\n",
      "7\t((33.669434469301876, 135.89715600013736), (33.671220265516354, 135.90455353260043))\n",
      "6\t((33.669434469301876, 135.89715600013736), (33.671220265516354, 135.90455353260043))\n",
      "5\t((33.669434469301876, 135.89715600013736), (33.671220265516354, 135.90455353260043))\n",
      "4\t((33.669434469301876, 135.89715600013736), (33.671220265516354, 135.90455353260043))\n",
      "3\t((33.669434469301876, 135.89715600013736), (33.671220265516354, 135.90455353260043))\n",
      "2\t((33.669434469301876, 135.89715600013736), (33.671220265516354, 135.90455353260043))\n"
     ]
    }
   ],
   "source": [
    "m, b = w.result\n",
    "for z in range(18, 1, -1):\n",
    "    m.zoom = z\n",
    "    print(f\"{z}\\t{m.bounds}\")\n",
    "    if (m.bounds[0][1] < b[0] and m.bounds[0][0] < b[1] and\n",
    "        m.bounds[1][1] > b[2] and m.bounds[1][0] > b[3]):\n",
    "        break"
   ]
  },
  {
   "cell_type": "code",
   "execution_count": 29,
   "metadata": {},
   "outputs": [
    {
     "data": {
      "text/plain": [
       "((-32.546813173515154, -106.5234375), (72.18180355624855, 378.28125000000006))"
      ]
     },
     "execution_count": 29,
     "metadata": {},
     "output_type": "execute_result"
    }
   ],
   "source": [
    "m.zoom = 17\n",
    "m.bounds"
   ]
  },
  {
   "cell_type": "code",
   "execution_count": 43,
   "metadata": {},
   "outputs": [],
   "source": []
  },
  {
   "cell_type": "code",
   "execution_count": 31,
   "metadata": {},
   "outputs": [],
   "source": []
  },
  {
   "cell_type": "code",
   "execution_count": null,
   "metadata": {},
   "outputs": [],
   "source": [
    "import gpxpy\n",
    "from geopy.distance import distance"
   ]
  },
  {
   "cell_type": "code",
   "execution_count": null,
   "metadata": {},
   "outputs": [],
   "source": [
    "def points_to_gpx_track(points, tracks):\n",
    "    t = gpxpy.gpx.GPXTrack(\n",
    "            name=f\"{points[0].localtime.time()} {' '.join({t.type or '' for t in tracks})}\",\n",
    "            description=\"\\t\".join({t.description or \"\" for t in tracks}),\n",
    "        )\n",
    "    t.comment=\"\\t\".join({t.name or t.filename or \"\" for t in tracks})\n",
    "    t.source=\"\\t\".join({t.source or \"\" for t in tracks})\n",
    "    t.type=\"\\t\".join({t.type or \"\" for t in tracks})\n",
    "    s = gpxpy.gpx.GPXTrackSegment()\n",
    "    t.segments.append(s)\n",
    "    for p in points:\n",
    "        s.points.append(gpxpy.gpx.GPXTrackPoint(\n",
    "            latitude=p.latitude, longitude=p.longitude, elevation=p.elevation, time=p.time))\n",
    "    return t"
   ]
  },
  {
   "cell_type": "code",
   "execution_count": null,
   "metadata": {},
   "outputs": [],
   "source": [
    "HOUR = timedelta(hours=1)\n",
    "\n",
    "def max_speed(points):\n",
    "    max_s = 0\n",
    "    for j in range(1, len(points)):\n",
    "        d = distance((points[j-1].latitude, points[j-1].longitude),\n",
    "                     (points[j].latitude, points[j].longitude)).miles\n",
    "        t = (points[j].time - points[j-1].time) / HOUR\n",
    "        s = d/(t + 1/3600)\n",
    "        max_s = max(max_s, s)\n",
    "    return max_s\n"
   ]
  },
  {
   "cell_type": "code",
   "execution_count": null,
   "metadata": {},
   "outputs": [],
   "source": [
    "gpx = gpxpy.gpx.GPX()\n",
    "for i in sorted(intervals):\n",
    "    track_ids = [t.id for t in i.data]\n",
    "    track_points = dict()\n",
    "    \n",
    "    for track_id in track_ids:\n",
    "        points = (\n",
    "            session.query(GPSPoint)\n",
    "            .filter(GPSPoint.track_id.in_(track_ids))\n",
    "            .filter(GPSPoint.time.between(i.begin, i.end))\n",
    "            .distinct(GPSPoint.time)\n",
    "            .order_by(GPSPoint.time)\n",
    "        ).all()\n",
    "        if points:\n",
    "            track_points[track_id] = points\n",
    "            \n",
    "    track_ids = sorted(track_points.keys())\n",
    "    if not track_ids:\n",
    "        continue\n",
    "    merged = track_points[track_ids.pop(0)]\n",
    "    merged_speed = max_speed(merged)\n",
    "    unmerged = []\n",
    "    while track_ids:\n",
    "        next_id = track_ids.pop(0)\n",
    "        potential_merge = sorted(merged + track_points[next_id], key=lambda p: p.time)\n",
    "        potential_speed = max_speed(potential_merge)\n",
    "        print(f\"previous speed {merged_speed}\\tnew speed {potential_speed}\\tratio {potential_speed/(merged_speed + 0.0001)}\")\n",
    "        if potential_speed/(merged_speed + 0.0001) < 1.1:\n",
    "            merged = potential_merge\n",
    "            merged_speed = potential_speed\n",
    "        else:\n",
    "            print(\"### NOT MERGING\")\n",
    "            unmerged.append(track_points[next_id])\n",
    "    \n",
    "    for points in [merged] + unmerged:\n",
    "        if len(points) == 1:\n",
    "            p = points[0]\n",
    "            t = p.track\n",
    "            w = gpxpy.gpx.GPXWaypoint(\n",
    "                latitude=p.latitude, longitude=p.longitude, elevation=p.elevation,\n",
    "                time=p.time, name=t.name, description=t.description, type=t.type,\n",
    "                comment=t.source or t.filename\n",
    "            )\n",
    "            gpx.waypoints.append(w)\n",
    "        else:\n",
    "            tracks = {p.track for p in points}\n",
    "            #if len(tracks) > 1:\n",
    "            #    total_d = 0\n",
    "            #    max_s = 0\n",
    "            #    one_hour = timedelta(hours=1)\n",
    "            #    for j in range(1, len(points)):\n",
    "            #        d = distance((points[j-1].latitude, points[j-1].longitude),\n",
    "            #                     (points[j].latitude, points[j].longitude)).miles\n",
    "            #        total_d += d\n",
    "            #        t = (points[j].time - points[j-1].time) / one_hour\n",
    "            #        s = d/t\n",
    "            #        # print(d, t, s)\n",
    "            #        max_s = max(max_s, s)\n",
    "            #    total_t = (points[-1].time - points[0].time) / one_hour\n",
    "            #    avg_s = total_d / total_t\n",
    "            #    print(f\"max speed: {max_s}  avg_speed: {avg_s}\")\n",
    "            #    # speed is too fast, might be pingponging between two tracks, include both\n",
    "            #    if max_s > 100:\n",
    "            #        for track in tracks:\n",
    "            #            track_id = track.id\n",
    "            #            track_points = [p for p in points if p.track_id == track_id]\n",
    "            #            gpx.tracks.append(points_to_gpx_track(track_points, [track]))\n",
    "            #            print(\"filtered track\")\n",
    "            #            gpx.tracks[-1].number = len(gpx.tracks)\n",
    "            gpx.tracks.append(points_to_gpx_track(points, tracks))\n",
    "            gpx.tracks[-1].number = len(gpx.tracks)\n",
    "    print(f\"{str(points[0].localtime)}\\t{str(points[-1].localtime.time())}\\t{i.end - i.begin}\\t{len(points)}\\t{set(t.name or t.filename for t in i.data)}\")\n",
    "\n",
    "    "
   ]
  },
  {
   "cell_type": "code",
   "execution_count": null,
   "metadata": {},
   "outputs": [],
   "source": [
    "with open(f\"{date}.gpx\", \"w\") as fh:\n",
    "    print(gpx.to_xml(version=\"1.1\"), file=fh)"
   ]
  },
  {
   "cell_type": "code",
   "execution_count": null,
   "metadata": {},
   "outputs": [],
   "source": [
    "for t in session.query(GPSTrack):\n",
    "    if len(t.points) > 1:\n",
    "        print(f\"{t.id}\\t{max_speed(t.points)}\\t{t.name}\")"
   ]
  },
  {
   "cell_type": "code",
   "execution_count": null,
   "metadata": {},
   "outputs": [],
   "source": [
    "speed_query = \"\"\"\n",
    "select time as t1, lag(time) over (order by time) as t2,\n",
    "    latitude as lat1, lag(latitude) over (order by time) as lat2,\n",
    "    longitude as lon1, lag(longitude) over (order by time) as lon2\n",
    "from point\n",
    "where track_id = %(track_id)s\n",
    "order by time\n",
    "\"\"\"\n",
    "speed_df = pd.read_sql_query(speed_query, engine, params={'track_id': 12566})\n",
    "display(speed_df)"
   ]
  },
  {
   "cell_type": "code",
   "execution_count": null,
   "metadata": {},
   "outputs": [],
   "source": [
    "speed_df[\"distance\"] = speed_df.dropna().apply(lambda row: distance((row['lat1'], row['lon1']), (row['lat2'], row['lon2'])).miles , axis=1)"
   ]
  },
  {
   "cell_type": "code",
   "execution_count": null,
   "metadata": {},
   "outputs": [],
   "source": [
    "speed_df"
   ]
  },
  {
   "cell_type": "code",
   "execution_count": null,
   "metadata": {},
   "outputs": [],
   "source": [
    "speed_df[\"hours\"] = (speed_df[\"t1\"] - speed_df[\"t2\"]) / HOUR"
   ]
  },
  {
   "cell_type": "code",
   "execution_count": null,
   "metadata": {},
   "outputs": [],
   "source": [
    "speed_df = speed_df[speed_df.hours > 0].copy()"
   ]
  },
  {
   "cell_type": "code",
   "execution_count": null,
   "metadata": {},
   "outputs": [],
   "source": [
    "speed_df[\"speed\"] = speed_df[\"distance\"] / speed_df[\"hours\"]"
   ]
  },
  {
   "cell_type": "code",
   "execution_count": null,
   "metadata": {},
   "outputs": [],
   "source": [
    "speed_df.plot.line(x=\"t1\", y=\"speed\")"
   ]
  },
  {
   "cell_type": "code",
   "execution_count": null,
   "metadata": {},
   "outputs": [],
   "source": [
    "speed_df.sort_values(by=\"speed\")"
   ]
  },
  {
   "cell_type": "code",
   "execution_count": null,
   "metadata": {},
   "outputs": [],
   "source": [
    "speed_df.speed.plot.hist()"
   ]
  },
  {
   "cell_type": "code",
   "execution_count": null,
   "metadata": {},
   "outputs": [],
   "source": []
  }
 ],
 "metadata": {
  "kernelspec": {
   "display_name": "Python 3",
   "language": "python",
   "name": "python3"
  },
  "language_info": {
   "codemirror_mode": {
    "name": "ipython",
    "version": 3
   },
   "file_extension": ".py",
   "mimetype": "text/x-python",
   "name": "python",
   "nbconvert_exporter": "python",
   "pygments_lexer": "ipython3",
   "version": "3.7.4"
  }
 },
 "nbformat": 4,
 "nbformat_minor": 4
}
